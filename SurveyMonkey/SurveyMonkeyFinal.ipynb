{
 "metadata": {
  "language_info": {
   "codemirror_mode": {
    "name": "ipython",
    "version": 3
   },
   "file_extension": ".py",
   "mimetype": "text/x-python",
   "name": "python",
   "nbconvert_exporter": "python",
   "pygments_lexer": "ipython3",
   "version": "3.7.9-final"
  },
  "orig_nbformat": 2,
  "kernelspec": {
   "name": "Python 3.7.9 64-bit ('base': conda)",
   "display_name": "Python 3.7.9 64-bit ('base': conda)",
   "metadata": {
    "interpreter": {
     "hash": "3cd23b357b5bb7eb022598bbb7741c98d84dc142569d56aec53a2cc58ec68b49"
    }
   }
  }
 },
 "nbformat": 4,
 "nbformat_minor": 2,
 "cells": [
  {
   "cell_type": "code",
   "execution_count": 4,
   "metadata": {},
   "outputs": [],
   "source": [
    "import pandas as pd\n",
    "import json\n",
    "surveymonkey = \"Resources/TomHanksMoviesFinal.csv\""
   ]
  },
  {
   "cell_type": "code",
   "execution_count": 5,
   "metadata": {},
   "outputs": [
    {
     "output_type": "execute_result",
     "data": {
      "text/plain": [
       "            Movie Selection 1 Movie Selection 2   Movie Selection 3  \\\n",
       "55  The Man with One Red Shoe     The Money Pit          The 'Burbs   \n",
       "56      A League of Their Own  Toy Story Series  That Thing You Do!   \n",
       "57  The Man with One Red Shoe     The Money Pit          The 'Burbs   \n",
       "58      A League of Their Own  Toy Story Series  That Thing You Do!   \n",
       "59               Forrest Gump         Apollo 13           Cast Away   \n",
       "\n",
       "        Movie Genre Other                            Gender Birth Year  \n",
       "55  Science Fiction   NaN                              Male       1976  \n",
       "56            Drama   NaN  Respondent skipped this question       XXXX  \n",
       "57         Thriller   NaN                              Male       1976  \n",
       "58            Drama   NaN  Respondent skipped this question       XXXX  \n",
       "59         Thriller   NaN                            Female       1994  "
      ],
      "text/html": "<div>\n<style scoped>\n    .dataframe tbody tr th:only-of-type {\n        vertical-align: middle;\n    }\n\n    .dataframe tbody tr th {\n        vertical-align: top;\n    }\n\n    .dataframe thead th {\n        text-align: right;\n    }\n</style>\n<table border=\"1\" class=\"dataframe\">\n  <thead>\n    <tr style=\"text-align: right;\">\n      <th></th>\n      <th>Movie Selection 1</th>\n      <th>Movie Selection 2</th>\n      <th>Movie Selection 3</th>\n      <th>Movie Genre</th>\n      <th>Other</th>\n      <th>Gender</th>\n      <th>Birth Year</th>\n    </tr>\n  </thead>\n  <tbody>\n    <tr>\n      <th>55</th>\n      <td>The Man with One Red Shoe</td>\n      <td>The Money Pit</td>\n      <td>The 'Burbs</td>\n      <td>Science Fiction</td>\n      <td>NaN</td>\n      <td>Male</td>\n      <td>1976</td>\n    </tr>\n    <tr>\n      <th>56</th>\n      <td>A League of Their Own</td>\n      <td>Toy Story Series</td>\n      <td>That Thing You Do!</td>\n      <td>Drama</td>\n      <td>NaN</td>\n      <td>Respondent skipped this question</td>\n      <td>XXXX</td>\n    </tr>\n    <tr>\n      <th>57</th>\n      <td>The Man with One Red Shoe</td>\n      <td>The Money Pit</td>\n      <td>The 'Burbs</td>\n      <td>Thriller</td>\n      <td>NaN</td>\n      <td>Male</td>\n      <td>1976</td>\n    </tr>\n    <tr>\n      <th>58</th>\n      <td>A League of Their Own</td>\n      <td>Toy Story Series</td>\n      <td>That Thing You Do!</td>\n      <td>Drama</td>\n      <td>NaN</td>\n      <td>Respondent skipped this question</td>\n      <td>XXXX</td>\n    </tr>\n    <tr>\n      <th>59</th>\n      <td>Forrest Gump</td>\n      <td>Apollo 13</td>\n      <td>Cast Away</td>\n      <td>Thriller</td>\n      <td>NaN</td>\n      <td>Female</td>\n      <td>1994</td>\n    </tr>\n  </tbody>\n</table>\n</div>"
     },
     "metadata": {},
     "execution_count": 5
    }
   ],
   "source": [
    "surveymonkey_df = pd.read_csv(surveymonkey)\n",
    "surveymonkey_df.tail()"
   ]
  },
  {
   "cell_type": "code",
   "execution_count": null,
   "metadata": {},
   "outputs": [],
   "source": []
  }
 ]
}